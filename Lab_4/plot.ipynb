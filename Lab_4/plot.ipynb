{
 "cells": [
  {
   "cell_type": "code",
   "execution_count": 3,
   "metadata": {},
   "outputs": [],
   "source": [
    "import numpy as np \n",
    "import pandas as pd\n",
    "import matplotlib.pyplot as plt "
   ]
  },
  {
   "cell_type": "code",
   "execution_count": 4,
   "metadata": {},
   "outputs": [],
   "source": [
    "filename = ['test/process1.dat.sjf.csv', 'test/process2.dat.sjf.csv', 'test/process3.dat.sjf.csv', 'test/process1.dat.srtf.csv', 'test/process2.dat.srtf.csv', 'test/process3.dat.srtf.csv']\n",
    "keys = [\"Throughput\", \"Average Repsonse Time\", \"Average Waiting Time\", \"Average TurnAround Time\", \"Average Penalty Ratio\"]\n",
    "data ={\"Average Repsonse Time\" : {\"SRTF\" : [], \"SJF\" : []}, \"Average Waiting Time\" : {\"SRTF\" : [], \"SJF\" : []}, \"Average TurnAround Time\" : {\"SRTF\" : [], \"SJF\" : []}, \"Average Penalty Ratio\" : {\"SRTF\" : [], \"SJF\" : []}}"
   ]
  },
  {
   "cell_type": "code",
   "execution_count": 13,
   "metadata": {},
   "outputs": [],
   "source": [
    "data ={\"Average Turnaround Time\" : {\"SRTF\" : [1, 1, 9], \"SJF\" : [9, 2, 93]}, \n",
    "       \"Average Waiting Time\" : {\"SRTF\" : [4, 1, 74], \"SJF\" : [5, 18, 5]}, \n",
    "       \"Average Repsonse Time\" : {\"SRTF\" : [1, 5, 4], \"SJF\" : [3, 13, 447.8]}, \n",
    "       \"Average Penalty Ratio\" : {\"SRTF\" : [2, 2, 17], \"SJF\" : [63, 75, 6]},}\n"
   ]
  },
  {
   "cell_type": "code",
   "execution_count": 1,
   "metadata": {},
   "outputs": [
    {
     "ename": "NameError",
     "evalue": "name 'data' is not defined",
     "output_type": "error",
     "traceback": [
      "\u001b[1;31m---------------------------------------------------------------------------\u001b[0m",
      "\u001b[1;31mNameError\u001b[0m                                 Traceback (most recent call last)",
      "Cell \u001b[1;32mIn[1], line 1\u001b[0m\n\u001b[1;32m----> 1\u001b[0m \u001b[39mfor\u001b[39;00m key \u001b[39min\u001b[39;00m data:\n\u001b[0;32m      2\u001b[0m     X \u001b[39m=\u001b[39m [\u001b[39m'\u001b[39m\u001b[39mTest 1\u001b[39m\u001b[39m'\u001b[39m,\u001b[39m'\u001b[39m\u001b[39mTest 2\u001b[39m\u001b[39m'\u001b[39m,\u001b[39m'\u001b[39m\u001b[39mTest 3\u001b[39m\u001b[39m'\u001b[39m]\n\u001b[0;32m      3\u001b[0m     SJF \u001b[39m=\u001b[39m data[key][\u001b[39m'\u001b[39m\u001b[39mSJF\u001b[39m\u001b[39m'\u001b[39m]\n",
      "\u001b[1;31mNameError\u001b[0m: name 'data' is not defined"
     ]
    }
   ],
   "source": [
    "for key in data:\n",
    "    X = ['Test 1','Test 2','Test 3']\n",
    "    SJF = data[key]['SJF']\n",
    "    SRTF = data[key]['SRTF']\n",
    "    plt.figure(figsize=(10, 7))\n",
    "    X_axis = np.arange(len(X))\n",
    "    \n",
    "    plt.bar(X_axis - 0.2, SJF, 0.4, label = 'SJF', color='pink')\n",
    "    plt.bar(X_axis + 0.2, SRTF, 0.4, label = 'SRTF', color='grey')\n",
    "    \n",
    "    plt.xticks(X_axis, X)\n",
    "    plt.xlabel(\"Test Data No.\")\n",
    "    plt.ylabel(key)\n",
    "    plt.title(\"Scheme vs \"+key)\n",
    "    plt.legend()\n",
    "    plt.savefig(\"./plots/\" + key + \".png\")\n",
    "    plt.show()"
   ]
  },
  {
   "cell_type": "code",
   "execution_count": null,
   "metadata": {},
   "outputs": [],
   "source": []
  }
 ],
 "metadata": {
  "kernelspec": {
   "display_name": "Python 3",
   "language": "python",
   "name": "python3"
  },
  "language_info": {
   "codemirror_mode": {
    "name": "ipython",
    "version": 3
   },
   "file_extension": ".py",
   "mimetype": "text/x-python",
   "name": "python",
   "nbconvert_exporter": "python",
   "pygments_lexer": "ipython3",
   "version": "3.11.1"
  },
  "orig_nbformat": 4,
  "vscode": {
   "interpreter": {
    "hash": "52634da84371cba311ea128a5ea7cdc41ff074b781779e754b270ff9f8153cee"
   }
  }
 },
 "nbformat": 4,
 "nbformat_minor": 2
}
